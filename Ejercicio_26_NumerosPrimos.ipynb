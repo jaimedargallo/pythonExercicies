{
  "nbformat": 4,
  "nbformat_minor": 0,
  "metadata": {
    "colab": {
      "provenance": [],
      "include_colab_link": true
    },
    "kernelspec": {
      "name": "python3",
      "display_name": "Python 3"
    },
    "language_info": {
      "name": "python"
    }
  },
  "cells": [
    {
      "cell_type": "markdown",
      "metadata": {
        "id": "view-in-github",
        "colab_type": "text"
      },
      "source": [
        "<a href=\"https://colab.research.google.com/github/jaimedargallo/pythonExercicies/blob/main/Ejercicio_26_NumerosPrimos.ipynb\" target=\"_parent\"><img src=\"https://colab.research.google.com/assets/colab-badge.svg\" alt=\"Open In Colab\"/></a>"
      ]
    },
    {
      "cell_type": "markdown",
      "source": [
        "# Ejercicio 26: Números Primos\n",
        "\n",
        "\n",
        "---\n",
        "\n",
        "Escribir un programa que imprima todos los números primos hasta un número introducido por el usuario."
      ],
      "metadata": {
        "id": "iApVmaqzDZ0E"
      }
    },
    {
      "cell_type": "code",
      "execution_count": null,
      "metadata": {
        "id": "hFSFhgh2DMq0"
      },
      "outputs": [],
      "source": [
        "# Solicitud de datos\n",
        "limite = int(input('>>> Dame un mumero: '))\n",
        "\n",
        "for numero in range(1, limite + 1):\n",
        "    creo_que_es_primo = True\n",
        "    for divisor in range(2,numero):\n",
        "        if numero % divisor == 0:\n",
        "            creo_que_es_primo = False\n",
        "            break\n",
        "\n",
        "    if creo_que_es_primo:\n",
        "            print(numero)"
      ]
    }
  ]
}