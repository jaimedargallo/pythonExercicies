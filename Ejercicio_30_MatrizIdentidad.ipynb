{
  "nbformat": 4,
  "nbformat_minor": 0,
  "metadata": {
    "colab": {
      "provenance": [],
      "include_colab_link": true
    },
    "kernelspec": {
      "name": "python3",
      "display_name": "Python 3"
    },
    "language_info": {
      "name": "python"
    }
  },
  "cells": [
    {
      "cell_type": "markdown",
      "metadata": {
        "id": "view-in-github",
        "colab_type": "text"
      },
      "source": [
        "<a href=\"https://colab.research.google.com/github/jaimedargallo/pythonExercicies/blob/main/Ejercicio_30_MatrizIdentidad.ipynb\" target=\"_parent\"><img src=\"https://colab.research.google.com/assets/colab-badge.svg\" alt=\"Open In Colab\"/></a>"
      ]
    },
    {
      "cell_type": "markdown",
      "source": [
        "# Ejercicio 30: Matriz Identidad\n",
        "\n",
        "---\n",
        "\n",
        "En álgebra lineal, la matriz identidad es una matriz que cumple la propiedad de ser el elemento neutro del producto de matrices. Esto quiere decir que el producto de cualquier matriz por la matriz identidad no tiene ningún efecto.\n",
        "\n",
        "Como el producto de matrices sólo tiene sentido si sus dimensiones son compatibles, existen infinitas matrices identidad dependiendo de las dimensiones. In, la matriz identidad de tamaño n, se define como de las entradas de la diagonal principal:\n",
        "\n",
        "$I_{n} =\n",
        " \\begin{pmatrix}\n",
        "  1 &  0 & \\cdots &  0 \\\\\n",
        "  0 &  1 & \\cdots &  0 \\\\\n",
        "  \\vdots  & \\vdots  & \\ddots & \\vdots  \\\\\n",
        "  0 &  0 & \\cdots &  1\n",
        " \\end{pmatrix}$\n",
        "\n",
        "Los pasos para crear la matriz identidad en Python son los siguientes:\n",
        "\n",
        "\n"
      ],
      "metadata": {
        "id": "mNfVyG5MaIh8"
      }
    },
    {
      "cell_type": "code",
      "source": [
        "# Pedimos la dimensión de la matriz,\n",
        "dimension = int(input(\"Dimension de la matriz: \"))\n",
        "\n",
        "# Creamos una matriz nula...\n",
        "Matriz = []\n",
        "\n",
        "for elemento in range(dimension):\n",
        "    Matriz.append ([0] * dimension)\n",
        "\n",
        "# ... y leemos su contenido\n",
        "for fila in range(dimension):\n",
        "    for columna in range(dimension):\n",
        "    # Si el numero de fila y columna es igual\n",
        "        if fila == columna:\n",
        "        # Guarda el número 1 en la posición\n",
        "          Matriz[fila][columna] = 1\n",
        "\n",
        "# Se imprime la matriz en pantalla\n",
        "print(Matriz)"
      ],
      "metadata": {
        "colab": {
          "base_uri": "https://localhost:8080/"
        },
        "id": "K8hqNGl7dkXJ",
        "outputId": "17a525a1-87fa-48bb-d028-a14c3fb4e53a"
      },
      "execution_count": null,
      "outputs": [
        {
          "output_type": "stream",
          "name": "stdout",
          "text": [
            "Dimension de la matriz: 5\n",
            "[[1, 0, 0, 0, 0], [0, 1, 0, 0, 0], [0, 0, 1, 0, 0], [0, 0, 0, 1, 0], [0, 0, 0, 0, 1]]\n"
          ]
        }
      ]
    },
    {
      "cell_type": "markdown",
      "source": [
        "---\n",
        "\n",
        "► Enunciado:\n",
        "\n",
        "Haz un programa que pida un entero positivo n y almacene en una variable M la matriz identidad de n × n (la que tiene unos (1) en la diagonal principal y ceros (0) en el resto de celdas). Imprime la matriz en pantalla.\n",
        "\n",
        "$M_{n,n} =\n",
        " \\begin{pmatrix}\n",
        "  1 &  0  &  0  &  0\\\\\n",
        "  0 &  1  &  0  &  0\\\\\n",
        "  0 &  0  &  1  &  0\\\\\n",
        "  0 &  0  &  0  &  1\\\\\n",
        " \\end{pmatrix}$\n",
        "\n",
        "---\n",
        "\n",
        "► Salida:\n",
        "\n",
        "```\n",
        ">>> MATRIZ M(4x4): [[1, 0, 0, 0], [0, 1, 0, 0], [0, 0, 1, 0],[0, 0, 0, 1]]\n",
        "\n",
        "[1, 0, 0, 0]\n",
        "[0, 1, 0, 0]\n",
        "[0, 0, 1, 0]\n",
        "[0, 0, 0, 1]\n",
        "```"
      ],
      "metadata": {
        "id": "R0zJEUoLdd7U"
      }
    },
    {
      "cell_type": "code",
      "execution_count": null,
      "metadata": {
        "id": "E_hSKfT-aB5l"
      },
      "outputs": [],
      "source": [
        "# Declaracion de Variables:\n",
        "M = []\n",
        "longitud = 0\n",
        "dimension = 0\n",
        "\n",
        "######################################################################\n",
        "\n",
        "# Pedimos la dimensión de la matriz,\n",
        "dimension = int(input(\">>> Dimension de la matriz de tamaño nxn: \"))\n",
        "\n",
        "# Creamos una matriz nula...\n",
        "for elemento in range(dimension):\n",
        "        M.append ([0] * dimension)\n",
        "\n",
        "# ... y leemos su contenido\n",
        "for fila in range(dimension):\n",
        "    for columna in range(dimension):\n",
        "        # Si el numero de fila y columna es igual\n",
        "        if fila == columna:\n",
        "             # Guarda el número 1 en la posición\n",
        "             M[fila][columna] = 1\n",
        "\n",
        "######################################################################\n",
        "\n",
        "print(\"\\n>>> MATRIZ M(%dx%d): %s\\n\" %(dimension,dimension,M))\n",
        "\n",
        "longitud = len(M)\n",
        "\n",
        "# Se imprime cada fila de la matriz\n",
        "for valor in range(longitud):\n",
        "    print(M[valor])"
      ]
    }
  ]
}