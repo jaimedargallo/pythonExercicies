{
  "cells": [
    {
      "cell_type": "markdown",
      "metadata": {
        "id": "view-in-github",
        "colab_type": "text"
      },
      "source": [
        "<a href=\"https://colab.research.google.com/github/jaimedargallo/pythonExercicies/blob/main/Ejercicio_22_PotenciacionRange.ipynb\" target=\"_parent\"><img src=\"https://colab.research.google.com/assets/colab-badge.svg\" alt=\"Open In Colab\"/></a>"
      ]
    },
    {
      "cell_type": "markdown",
      "metadata": {
        "id": "MTC4dnAcwq5g"
      },
      "source": [
        "# Ejercicio 22. Tabla de Potencias de un Número\n",
        "\n",
        "\n",
        "---\n",
        "\n",
        "\n",
        "Escribir un programa en el cual se solicite al usuario un número y se imprima la tabla de potencias del 1 al 10 del valor introducido."
      ]
    },
    {
      "cell_type": "markdown",
      "metadata": {
        "id": "RIVMbpcjuHnA"
      },
      "source": [
        "\n",
        "\n",
        "---\n",
        "\n",
        "\n",
        "► Solución 1: Bucle while\n"
      ]
    },
    {
      "cell_type": "code",
      "execution_count": null,
      "metadata": {
        "colab": {
          "background_save": true
        },
        "id": "_rQMCBc1wpjl"
      },
      "outputs": [],
      "source": [
        "# Declaracion de variables\n",
        "potencia = 1\n",
        "resultado = 0\n",
        "numero = 0\n",
        "\n",
        "# Solicitud de datos\n",
        "numero = int(input('>>> Introduce el numero a elevar: '))\n",
        "\n",
        "while potencia > 0 and potencia  < 11:\n",
        "    resultado = numero ** potencia\n",
        "    print(\"%d elevado a %d es %d\"%(numero,potencia,resultado))\n",
        "    potencia = potencia + 1"
      ]
    },
    {
      "cell_type": "markdown",
      "metadata": {
        "id": "vmM2Q1r8xGqk"
      },
      "source": [
        "\n",
        "\n",
        "---\n",
        "\n",
        "\n",
        "► Solución 2: Bucle for in range\n"
      ]
    },
    {
      "cell_type": "code",
      "execution_count": null,
      "metadata": {
        "id": "FN_uN5LGxRbo"
      },
      "outputs": [],
      "source": [
        "# Solicitud de Datos\n",
        "numero = int(input('>>> Introduce el numero a elevar: '))\n",
        "\n",
        "for potencia in range(1,11):\n",
        "    resultado = numero ** potencia\n",
        "    print(\"%d elevado a %d es %d\"%(numero,potencia,resultado))"
      ]
    }
  ],
  "metadata": {
    "colab": {
      "provenance": [],
      "include_colab_link": true
    },
    "kernelspec": {
      "display_name": "Python 3",
      "name": "python3"
    },
    "language_info": {
      "name": "python"
    }
  },
  "nbformat": 4,
  "nbformat_minor": 0
}