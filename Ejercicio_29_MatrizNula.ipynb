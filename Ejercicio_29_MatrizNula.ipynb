{
  "nbformat": 4,
  "nbformat_minor": 0,
  "metadata": {
    "colab": {
      "provenance": [],
      "include_colab_link": true
    },
    "kernelspec": {
      "name": "python3",
      "display_name": "Python 3"
    },
    "language_info": {
      "name": "python"
    }
  },
  "cells": [
    {
      "cell_type": "markdown",
      "metadata": {
        "id": "view-in-github",
        "colab_type": "text"
      },
      "source": [
        "<a href=\"https://colab.research.google.com/github/jaimedargallo/pythonExercicies/blob/main/Ejercicio_29_MatrizNula.ipynb\" target=\"_parent\"><img src=\"https://colab.research.google.com/assets/colab-badge.svg\" alt=\"Open In Colab\"/></a>"
      ]
    },
    {
      "cell_type": "markdown",
      "source": [
        "# Ejercicio 29: Matriz Nula\n",
        "\n",
        "---\n",
        "\n",
        "En matemáticas, en particular en álgebra lineal, una matriz cero o matriz nula es una matriz con todos sus elementos iguales a cero.\n",
        "\n",
        "Por lo tanto, una matriz nula de orden m x n definida sobre un anillo K asume la forma:\n",
        "\n",
        "$0_{K (m,n)} =\n",
        " \\begin{pmatrix}\n",
        "  0_{K} &  0_{K} & \\cdots &  0_{K} \\\\\n",
        "  0_{K} &  0_{K} & \\cdots &  0_{K} \\\\\n",
        "  \\vdots  & \\vdots  & \\ddots & \\vdots  \\\\\n",
        "  0_{K} &  0_{K} & \\cdots &  0_{K}\n",
        " \\end{pmatrix}$\n",
        "\n",
        "---\n",
        "\n",
        "## Creación de una Matriz Nula\n",
        "\n",
        "Crear una matriz consiste, pues, en crear una lista de listas. Si deseamos crear una matriz nula (una matriz cuyos componentes sean todos igual a 0) de tamaño 2 × 2, bastará con escribir:\n",
        "\n",
        "```\n",
        "# Matriz nula de tamaño 2x2\n",
        "m = [[0, 0], [0, 0]]\n",
        "```\n",
        "\n",
        "Al construir matrices, hay que asegurarse de que cada fila es una lista diferente.\n",
        "\n",
        "\n",
        "\n"
      ],
      "metadata": {
        "id": "8ovzP9xMTSjn"
      }
    },
    {
      "cell_type": "code",
      "source": [
        "Matriz = []\n",
        "# Se agregan los elementos a la Matriz\n",
        "for elemento in range(3):\n",
        "    Matriz.append ([0] * 6)\n",
        "\n",
        "# Se imprime la matriz en pantalla\n",
        "print(Matriz)"
      ],
      "metadata": {
        "id": "8qTnZlX-d5Ue"
      },
      "execution_count": null,
      "outputs": []
    },
    {
      "cell_type": "markdown",
      "source": [
        "\n",
        "---\n",
        "► Enunciado:\n",
        "\n",
        "Haz un programa para crear una matriz nula Mmxn, donde se le solicite al usuario su dimensión m x n, (m son las filas y n son las columnas). Imprime cada fila de la matriz en pantalla.\n",
        "\n",
        "$M =\n",
        " \\begin{pmatrix}\n",
        "  0 &  0  &  0  & 0\\\\\n",
        "  0 &  0  &  0  & 0\\\\\n",
        "  0 &  0  &  0  & 0\n",
        " \\end{pmatrix}$\n",
        "\n",
        "---\n",
        "\n",
        "► Salida:\n",
        "\n",
        "\n",
        "```\n",
        ">>> MATRIZ M(3x4): [[0, 0, 0, 0], [0, 0, 0, 0], [0, 0, 0, 0]]\n",
        "\n",
        "[0, 0, 0, 0]\n",
        "[0, 0, 0, 0]\n",
        "[0, 0, 0, 0]\n",
        "\n",
        "```"
      ],
      "metadata": {
        "id": "ZrNlpIZbdvzI"
      }
    },
    {
      "cell_type": "code",
      "execution_count": null,
      "metadata": {
        "id": "h4Y1Gq5FTCWG"
      },
      "outputs": [],
      "source": [
        "# Declaracion de Variables:\n",
        "Longitud = 0\n",
        "m_filas = 0\n",
        "n_columnas = 0\n",
        "\n",
        "######################################################################\n",
        "\n",
        "# Pedimos la dimensión de la matriz:\n",
        "m_filas    = int(input(\">>> Numero de filas (m): \"))\n",
        "n_columnas = int(input(\">>> Numero de columnas (n): \"))\n",
        "\n",
        "# Se crea la matriz nula\n",
        "M = []\n",
        "\n",
        "# Se agregan los elementos a la Matriz\n",
        "for elemento in range(m_filas):\n",
        "    M.append ([0] * n_columnas)\n",
        "\n",
        "# Longitud de la Matriz\n",
        "Longitud = len(M)\n",
        "\n",
        "######################################################################\n",
        "\n",
        "print(\"\\n>>> MATRIZ M(%dx%d): %s\\n\" %(m_filas,n_columnas,M))\n",
        "\n",
        "# Se imprime cada fila de la matriz\n",
        "for fila in range(Longitud):\n",
        "    print(M[fila])"
      ]
    }
  ]
}