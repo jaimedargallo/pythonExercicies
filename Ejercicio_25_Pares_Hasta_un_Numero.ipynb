{
  "nbformat": 4,
  "nbformat_minor": 0,
  "metadata": {
    "colab": {
      "provenance": [],
      "include_colab_link": true
    },
    "kernelspec": {
      "name": "python3",
      "display_name": "Python 3"
    },
    "language_info": {
      "name": "python"
    }
  },
  "cells": [
    {
      "cell_type": "markdown",
      "metadata": {
        "id": "view-in-github",
        "colab_type": "text"
      },
      "source": [
        "<a href=\"https://colab.research.google.com/github/jaimedargallo/pythonExercicies/blob/main/Ejercicio_25_Pares_Hasta_un_Numero.ipynb\" target=\"_parent\"><img src=\"https://colab.research.google.com/assets/colab-badge.svg\" alt=\"Open In Colab\"/></a>"
      ]
    },
    {
      "cell_type": "markdown",
      "source": [
        "# Ejercicio 25: Imprimir números pares hasta un número dado\n",
        "\n",
        "---\n",
        "\n",
        "Escribir un programa que imprima los números pares de forma creciente hasta un número introducido por el usuario."
      ],
      "metadata": {
        "id": "m2-7YAYt14a2"
      }
    },
    {
      "cell_type": "code",
      "execution_count": null,
      "metadata": {
        "colab": {
          "base_uri": "https://localhost:8080/"
        },
        "id": "gSP9fHbj1Z1y",
        "outputId": "56d7733f-21ec-4736-cf7c-b5f88a7e33aa"
      },
      "outputs": [
        {
          "output_type": "stream",
          "name": "stdout",
          "text": [
            ">>> Introduce un numero: 50\n",
            "2\n",
            "4\n",
            "6\n",
            "8\n",
            "10\n",
            "12\n",
            "14\n",
            "16\n",
            "18\n",
            "20\n",
            "22\n",
            "24\n",
            "26\n",
            "28\n",
            "30\n",
            "32\n",
            "34\n",
            "36\n",
            "38\n",
            "40\n",
            "42\n",
            "44\n",
            "46\n",
            "48\n",
            "50\n"
          ]
        }
      ],
      "source": [
        "# Solicitud de Datos\n",
        "numero = int(input('>>> Introduce un numero: '))\n",
        "\n",
        "for pares in range(0,numero + 1):\n",
        "    if pares == int(pares/2)*2 and pares>0:\n",
        "        print(pares)"
      ]
    }
  ]
}