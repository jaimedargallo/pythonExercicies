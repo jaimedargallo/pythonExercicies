{
  "cells": [
    {
      "cell_type": "markdown",
      "metadata": {
        "id": "view-in-github",
        "colab_type": "text"
      },
      "source": [
        "<a href=\"https://colab.research.google.com/github/jaimedargallo/pythonExercicies/blob/main/Ejercicio_28_MatrizDimension.ipynb\" target=\"_parent\"><img src=\"https://colab.research.google.com/assets/colab-badge.svg\" alt=\"Open In Colab\"/></a>"
      ]
    },
    {
      "cell_type": "markdown",
      "metadata": {
        "id": "f5giYEFkMCGz"
      },
      "source": [
        "# Ejercicio 28: Dimensión de una Matriz\n",
        "\n",
        "\n",
        "---\n",
        "\n",
        "Cuando deseábamos saber cuál era la longitud de una lista utilizábamos la función `len()`. ¿Funcionará también sobre matrices? Hagamos la prueba.\n",
        "\n",
        "► Entrada:\n",
        "\n",
        "```\n",
        "Matriz = [[1, 0], [0, 1], [0, 0]]\n",
        "­len(Matriz)\n",
        "```\n",
        "► Salida:\n",
        "\n",
        "`3`\n",
        "\n",
        "\n",
        "\n",
        "\n",
        "\n",
        "\n",
        "\n",
        "\n",
        "\n",
        "\n",
        "\n",
        "\n",
        "\n",
        "\n",
        "\n",
        "\n",
        "\n",
        "\n"
      ]
    },
    {
      "cell_type": "markdown",
      "metadata": {
        "id": "DWQb0E2LkEW3"
      },
      "source": [
        "---\n",
        "\n",
        "► No funciona correctamente:\n",
        "\n",
        "Solo nos devuelve el número de filas (que es el número de componentes de la lista de listas que es la matriz). ¿Cómo averiguar el número de columnas?"
      ]
    },
    {
      "cell_type": "markdown",
      "metadata": {
        "id": "Y12N9vTbj_HF"
      },
      "source": [
        "---\n",
        "\n",
        "► Entrada: Función len()\n",
        "```\n",
        "Matriz = [[1, 0], [0, 1], [0, 0]]\n",
        "­len(Matriz[0])\n",
        "```\n",
        "\n",
        "► Salida:\n",
        "\n",
        "`2`\n",
        "\n"
      ]
    },
    {
      "cell_type": "markdown",
      "metadata": {
        "id": "8BmlpmZPjkzy"
      },
      "source": [
        "---\n",
        "\n",
        "► Enunciado:\n",
        "\n",
        "Crea una matriz 3x3 que almacene los valores del 1 al 9. El tamaño de la matriz indica la cantidad de filas. Imprime cada fila de la matriz en pantalla.\n",
        "\n",
        "$M_{i,j} =\n",
        " \\begin{pmatrix}\n",
        "  7 & 8  &  9 \\\\\n",
        "  4 & 5  &  6 \\\\\n",
        "  1 & 2  &  3 \\\\\n",
        " \\end{pmatrix}$\n",
        "\n",
        "---\n",
        "\n",
        "► Salida:\n",
        "\n",
        "```\n",
        ">>> MATRIZ: [[7, 8, 9], [4, 5, 6], [7, 8, 9]]\n",
        ">>> FILA 1: [7, 8, 9]\n",
        ">>> FILA 2: [4, 5, 6]\n",
        ">>> FILA 3: [7, 8, 9]\n",
        "\n",
        "```"
      ]
    },
    {
      "cell_type": "code",
      "execution_count": null,
      "metadata": {
        "id": "G2mTndqpLsNO"
      },
      "outputs": [],
      "source": [
        "# Declaracion de Variables:\n",
        "Matriz = []\n",
        "Longitud = 0\n",
        "\n",
        "# Creacion de la matriz\n",
        "Matriz = [[7, 8, 9], [4, 5, 6,], [7, 8, 9]]\n",
        "\n",
        "# Longitud de la Matriz\n",
        "Longitud = len(Matriz)\n",
        "\n",
        "print(\">>> MATRIZ: %s\" %(Matriz))\n",
        "\n",
        "# Se imprime cada fila de la matriz\n",
        "for fila in range(Longitud):\n",
        "    print(\">>> FILA %d: %s\" %(fila+1, Matriz[fila]))"
      ]
    }
  ],
  "metadata": {
    "colab": {
      "provenance": [],
      "include_colab_link": true
    },
    "kernelspec": {
      "display_name": "Python 3",
      "name": "python3"
    },
    "language_info": {
      "name": "python"
    }
  },
  "nbformat": 4,
  "nbformat_minor": 0
}