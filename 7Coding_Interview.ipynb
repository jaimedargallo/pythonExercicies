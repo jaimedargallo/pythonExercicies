{
  "nbformat": 4,
  "nbformat_minor": 0,
  "metadata": {
    "colab": {
      "provenance": [],
      "include_colab_link": true
    },
    "kernelspec": {
      "name": "python3",
      "display_name": "Python 3"
    },
    "language_info": {
      "name": "python"
    }
  },
  "cells": [
    {
      "cell_type": "markdown",
      "metadata": {
        "id": "view-in-github",
        "colab_type": "text"
      },
      "source": [
        "<a href=\"https://colab.research.google.com/github/jaimedargallo/pythonExercicies/blob/main/7Coding_Interview.ipynb\" target=\"_parent\"><img src=\"https://colab.research.google.com/assets/colab-badge.svg\" alt=\"Open In Colab\"/></a>"
      ]
    },
    {
      "cell_type": "markdown",
      "source": [
        "# Pregunta 1\n",
        "\n",
        "\n",
        "---\n",
        "\n",
        "\n",
        "Comprobar si la lista contiene el número entero x."
      ],
      "metadata": {
        "id": "QMVFUu8DztUF"
      }
    },
    {
      "cell_type": "code",
      "execution_count": null,
      "metadata": {
        "id": "I14JfnPxzaEI"
      },
      "outputs": [],
      "source": [
        "lista = [3, 3, 4, 5, 2, 111, 5]\n",
        "print(111 in lista) # True"
      ]
    },
    {
      "cell_type": "markdown",
      "source": [
        "# Pregunta 2:\n",
        "\n",
        "\n",
        "---\n",
        "\n",
        "\n",
        "Encuentra el número duplicado en la lista de enteros."
      ],
      "metadata": {
        "id": "m5WlTv1o0FOA"
      }
    },
    {
      "cell_type": "code",
      "source": [
        "def find_duplicates(elements):\n",
        "    duplicates, seen = set(), set()\n",
        "    for element in elements:\n",
        "        if element in seen:\n",
        "            duplicates.add(element)\n",
        "        seen.add(element)\n",
        "    return list(duplicates)"
      ],
      "metadata": {
        "id": "enBOfNET0IdE"
      },
      "execution_count": null,
      "outputs": []
    },
    {
      "cell_type": "markdown",
      "source": [
        "# Pregunta 3:\n",
        "\n",
        "\n",
        "---\n",
        "\n",
        "\n",
        "Comprobar si dos cadenas son anagramas."
      ],
      "metadata": {
        "id": "5WDmiMDLz-Qw"
      }
    },
    {
      "cell_type": "code",
      "source": [
        "def is_anagram(s1, s2):\n",
        "    return set(s1) == set(s2)\n",
        "print(is_anagram(\"elvis\", \"lives\")) # True"
      ],
      "metadata": {
        "id": "tW368dbP0WgM"
      },
      "execution_count": null,
      "outputs": []
    },
    {
      "cell_type": "markdown",
      "source": [
        "# Pregunta 4:\n",
        "\n",
        "\n",
        "---\n",
        "\n",
        "\n",
        "Eliminar todos los duplicados de la lista."
      ],
      "metadata": {
        "id": "Vxgd5CUD0jJi"
      }
    },
    {
      "cell_type": "code",
      "source": [
        "lista = list(range(10)) + list(range(10))\n",
        "print(lista)\n",
        "# [0, 1, 2, 3, 4, 5, 6, 7, 8, 9, 0, 1, 2, 3, 4, 5, 6, 7, 8, 9]\n",
        "\n",
        "lista = list(set(lista))\n",
        "print(lista)\n",
        "# [0, 1, 2, 3, 4, 5, 6, 7, 8, 9]\n"
      ],
      "metadata": {
        "id": "u_kcmcP_0qXI"
      },
      "execution_count": null,
      "outputs": []
    },
    {
      "cell_type": "markdown",
      "source": [
        "# Pregunta 5:\n",
        "\n",
        "\n",
        "---\n",
        "\n",
        "\n",
        "Encuentra pares de enteros en la lista para que su suma sea igual al entero x.\n",
        "\n"
      ],
      "metadata": {
        "id": "KDb5cyBR0tAe"
      }
    },
    {
      "cell_type": "code",
      "source": [
        "def find_pairs(l, x):\n",
        "    pairs = []\n",
        "    for (i, el_1) in enumerate(l):\n",
        "        for (j, el_2) in enumerate(l[i+1:]):\n",
        "            if el_1 + el_2 == x:\n",
        "                pairs.append((el_1, el_2))\n",
        "    return pairs"
      ],
      "metadata": {
        "id": "cor5UMTn0tmK"
      },
      "execution_count": null,
      "outputs": []
    },
    {
      "cell_type": "markdown",
      "source": [
        "# Pregunta 6:\n",
        "\n",
        "\n",
        "---\n",
        "\n",
        "\n",
        "Comprobar si una cadena es un palíndromo."
      ],
      "metadata": {
        "id": "LSheMnKQ1I2N"
      }
    },
    {
      "cell_type": "code",
      "source": [
        "def is_palindrome(phrase):\n",
        "    return phrase == phrase[::-1]\n",
        "print(is_palindrome(\"anna\")) # True"
      ],
      "metadata": {
        "id": "k4FLxSFc1Jar"
      },
      "execution_count": null,
      "outputs": []
    },
    {
      "cell_type": "markdown",
      "source": [
        "# Pregunta 7:\n",
        "\n",
        "\n",
        "---\n",
        "\n",
        "\n",
        "Use una lista como matriz, pila y cola."
      ],
      "metadata": {
        "id": "oorOQcPK1Izx"
      }
    },
    {
      "cell_type": "code",
      "source": [
        "# Lista como una matriz.\n",
        "lista = [3, 4]\n",
        "print(\">>> Matriz Antes  : \" + str(lista))\n",
        "lista += [5, 6] # l = [3, 4, 5, 6]\n",
        "print(\">>> Matriz Despues: \" + str(lista))\n",
        "\n",
        "# Lista como una pila: El ultimo que entra es el primero que sale.\n",
        "lista.append(10) # lista = [3, 4, 5, 6, 10]\n",
        "print(\">>> Pila Antes    : \" + str(lista))\n",
        "lista.pop() # lista = [3, 4, 5, 6]\n",
        "print(\">>> Pila Despues  : \" + str(lista))\n",
        "\n",
        "# Lista como una cola: El ultimo que entra es el ultimo que sale\n",
        "lista.insert(0, 5) # lista = [5, 3, 4, 5, 6]\n",
        "print(\">>> Cola Antes    : \" + str(lista))\n",
        "lista.pop() # lista = [5, 3, 4, 5]\n",
        "print(\">>> Cola Despues  : \" + str(lista))"
      ],
      "metadata": {
        "id": "BnxyKMy91RYl"
      },
      "execution_count": null,
      "outputs": []
    }
  ]
}