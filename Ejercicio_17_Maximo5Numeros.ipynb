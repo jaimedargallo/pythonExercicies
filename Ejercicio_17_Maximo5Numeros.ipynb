{
  "nbformat": 4,
  "nbformat_minor": 0,
  "metadata": {
    "colab": {
      "provenance": [],
      "include_colab_link": true
    },
    "kernelspec": {
      "name": "python3",
      "display_name": "Python 3"
    },
    "language_info": {
      "name": "python"
    }
  },
  "cells": [
    {
      "cell_type": "markdown",
      "metadata": {
        "id": "view-in-github",
        "colab_type": "text"
      },
      "source": [
        "<a href=\"https://colab.research.google.com/github/jaimedargallo/pythonExercicies/blob/main/Ejercicio_17_Maximo5Numeros.ipynb\" target=\"_parent\"><img src=\"https://colab.research.google.com/assets/colab-badge.svg\" alt=\"Open In Colab\"/></a>"
      ]
    },
    {
      "cell_type": "markdown",
      "source": [
        "# Ejercicio 17: Mayor de 5 Números\n",
        "\n",
        "\n",
        "---\n",
        "\n",
        "\n",
        "Escribir un programa que solicite al usuario 5 números, compararlos y decir cual es mayor."
      ],
      "metadata": {
        "id": "y5maZR7ZEHMN"
      }
    },
    {
      "cell_type": "code",
      "execution_count": null,
      "metadata": {
        "id": "n2Q2ayq2ECDt"
      },
      "outputs": [],
      "source": [
        "# Declaracion de variables\n",
        "primer_numero  = 0.0\n",
        "segundo_numero = 0.0\n",
        "tercer_numero  = 0.0\n",
        "cuarto_numero  = 0.0\n",
        "quinto_numero  = 0.0\n",
        "\n",
        "# Solicitud de datos\n",
        "primer_numero  = float(input('Introduce el Primer  numero: '))\n",
        "segundo_numero = float(input('Introduce el Segundo numero: '))\n",
        "tercer_numero  = float(input('Introduce el Tercer  numero: '))\n",
        "cuarto_numero  = float(input('Introduce el Cuarto  numero: '))\n",
        "quinto_numero  = float(input('Introduce el Quinto  numero: '))\n",
        "\n",
        "posible_maximo = primer_numero\n",
        "\n",
        "if segundo_numero > posible_maximo:\n",
        "    posible_maximo = segundo_numero\n",
        "\n",
        "if tercer_numero > posible_maximo:\n",
        "    posible_maximo = tercer_numero\n",
        "\n",
        "if cuarto_numero > posible_maximo:\n",
        "    posible_maximo = cuarto_numero\n",
        "\n",
        "if quinto_numero > posible_maximo:\n",
        "    posible_maximo = quinto_numero\n",
        "\n",
        "maximo = posible_maximo\n",
        "\n",
        "print ('>>> El Numero maximo es: %5.2f' %(maximo))"
      ]
    }
  ]
}