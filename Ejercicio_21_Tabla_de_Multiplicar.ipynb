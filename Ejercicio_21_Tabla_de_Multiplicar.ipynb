{
  "nbformat": 4,
  "nbformat_minor": 0,
  "metadata": {
    "colab": {
      "provenance": [],
      "include_colab_link": true
    },
    "kernelspec": {
      "name": "python3",
      "display_name": "Python 3"
    },
    "language_info": {
      "name": "python"
    }
  },
  "cells": [
    {
      "cell_type": "markdown",
      "metadata": {
        "id": "view-in-github",
        "colab_type": "text"
      },
      "source": [
        "<a href=\"https://colab.research.google.com/github/jaimedargallo/pythonExercicies/blob/main/Ejercicio_21_Tabla_de_Multiplicar.ipynb\" target=\"_parent\"><img src=\"https://colab.research.google.com/assets/colab-badge.svg\" alt=\"Open In Colab\"/></a>"
      ]
    },
    {
      "cell_type": "markdown",
      "source": [
        "# Ejercicio 21: Tabla de Multiplicar de un Número\n",
        "\n",
        "\n",
        "---\n",
        "\n",
        "\n",
        "Escribir un programa en el cual se solicite al usuario un número y se imprima la tabla de multiplicar del 1 al 10 del valor introducido."
      ],
      "metadata": {
        "id": "VvMFDObxtc5g"
      }
    },
    {
      "cell_type": "markdown",
      "source": [
        "\n",
        "\n",
        "---\n",
        "\n",
        "\n",
        "► Solución 1: Bucle while\n"
      ],
      "metadata": {
        "id": "RIVMbpcjuHnA"
      }
    },
    {
      "cell_type": "code",
      "execution_count": null,
      "metadata": {
        "id": "-PIW_tkqtY9K"
      },
      "outputs": [],
      "source": [
        "# Declaracion de variables\n",
        "multiplicador = 1\n",
        "resultado = 0\n",
        "numero = 0\n",
        "\n",
        "# Solicitud de Datos\n",
        "numero = int(input('>>> Introduce el numero a multiplicar: '))\n",
        "\n",
        "while multiplicador > 0 and multiplicador < 11:\n",
        "    resultado = numero * multiplicador\n",
        "    print(\"%d x %2d = %d\" %(numero,multiplicador,resultado))\n",
        "    multiplicador = multiplicador + 1"
      ]
    },
    {
      "cell_type": "markdown",
      "source": [
        "\n",
        "\n",
        "---\n",
        "\n",
        "\n",
        "► Solución 2: Bucle for in range"
      ],
      "metadata": {
        "id": "5e3IMfOjuc8L"
      }
    },
    {
      "cell_type": "code",
      "source": [
        "# Solicitud de Datos\n",
        "numero = int(input('>>> Introduce el numero a multiplicar: '))\n",
        "\n",
        "for multiplicador in range(1,11):\n",
        "    resultado = numero * multiplicador\n",
        "    print(\"%d x %2d = %d\" % (numero,multiplicador,resultado))"
      ],
      "metadata": {
        "id": "H6svQ0IpupDQ"
      },
      "execution_count": null,
      "outputs": []
    }
  ]
}