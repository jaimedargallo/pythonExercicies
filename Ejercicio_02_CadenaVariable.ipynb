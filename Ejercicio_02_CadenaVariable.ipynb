{
  "nbformat": 4,
  "nbformat_minor": 0,
  "metadata": {
    "colab": {
      "provenance": [],
      "include_colab_link": true
    },
    "kernelspec": {
      "name": "python3",
      "display_name": "Python 3"
    },
    "language_info": {
      "name": "python"
    }
  },
  "cells": [
    {
      "cell_type": "markdown",
      "metadata": {
        "id": "view-in-github",
        "colab_type": "text"
      },
      "source": [
        "<a href=\"https://colab.research.google.com/github/jaimedargallo/pythonExercicies/blob/main/Ejercicio_02_CadenaVariable.ipynb\" target=\"_parent\"><img src=\"https://colab.research.google.com/assets/colab-badge.svg\" alt=\"Open In Colab\"/></a>"
      ]
    },
    {
      "cell_type": "markdown",
      "source": [
        "# Ejercicio 2: Guardar una cadena en una variable\n",
        "\n",
        "\n",
        "---\n",
        "\n",
        "\n",
        "Escribir un programa que almacene la cadena `¡Hola Mundo!` en una variable y luego muestre por pantalla el contenido de la variable."
      ],
      "metadata": {
        "id": "Zz2jYuy_LfFW"
      }
    },
    {
      "cell_type": "code",
      "source": [
        "mensaje = \"¡Hola Mundo!\"\n",
        "print(mensaje)"
      ],
      "metadata": {
        "id": "5cL5FXArLpyy"
      },
      "execution_count": null,
      "outputs": []
    }
  ]
}